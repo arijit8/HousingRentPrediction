{
 "cells": [
  {
   "cell_type": "code",
   "execution_count": 1,
   "metadata": {
    "colab": {
     "base_uri": "https://localhost:8080/",
     "height": 70
    },
    "colab_type": "code",
    "executionInfo": {
     "elapsed": 3406,
     "status": "ok",
     "timestamp": 1595587022583,
     "user": {
      "displayName": "Arijit Das",
      "photoUrl": "https://lh3.googleusercontent.com/a-/AOh14GiQm2SXqfSQfQ_PjVMsk0AqTniOPCxTFikSIufN=s64",
      "userId": "17698375113513972403"
     },
     "user_tz": -330
    },
    "id": "M0kRoAx88dAb",
    "outputId": "c2b8dc68-054e-48fe-9a6f-81a2ab1cb7f1"
   },
   "outputs": [],
   "source": [
    "import pandas as pd\n",
    "import numpy as np\n",
    "import seaborn as sns\n",
    "import matplotlib.pyplot as plt\n",
    "%matplotlib inline"
   ]
  },
  {
   "cell_type": "code",
   "execution_count": 2,
   "metadata": {
    "colab": {
     "base_uri": "https://localhost:8080/",
     "height": 120
    },
    "colab_type": "code",
    "executionInfo": {
     "elapsed": 97887,
     "status": "ok",
     "timestamp": 1595587117118,
     "user": {
      "displayName": "Arijit Das",
      "photoUrl": "https://lh3.googleusercontent.com/a-/AOh14GiQm2SXqfSQfQ_PjVMsk0AqTniOPCxTFikSIufN=s64",
      "userId": "17698375113513972403"
     },
     "user_tz": -330
    },
    "id": "7cON419l9gPA",
    "outputId": "217527d0-7a49-449d-f1b7-1ddcf574c217"
   },
   "outputs": [
    {
     "name": "stdout",
     "output_type": "stream",
     "text": [
      "Go to this URL in a browser: https://accounts.google.com/o/oauth2/auth?client_id=947318989803-6bn6qk8qdgf4n4g3pfee6491hc0brc4i.apps.googleusercontent.com&redirect_uri=urn%3aietf%3awg%3aoauth%3a2.0%3aoob&response_type=code&scope=email%20https%3a%2f%2fwww.googleapis.com%2fauth%2fdocs.test%20https%3a%2f%2fwww.googleapis.com%2fauth%2fdrive%20https%3a%2f%2fwww.googleapis.com%2fauth%2fdrive.photos.readonly%20https%3a%2f%2fwww.googleapis.com%2fauth%2fpeopleapi.readonly\n",
      "\n",
      "Enter your authorization code:\n",
      "··········\n",
      "Mounted at /content/drive\n"
     ]
    }
   ],
   "source": [
    "# from google.colab import drive\n",
    "# drive.mount('/content/drive')"
   ]
  },
  {
   "cell_type": "code",
   "execution_count": 2,
   "metadata": {
    "colab": {
     "base_uri": "https://localhost:8080/",
     "height": 197
    },
    "colab_type": "code",
    "executionInfo": {
     "elapsed": 97861,
     "status": "ok",
     "timestamp": 1595587117126,
     "user": {
      "displayName": "Arijit Das",
      "photoUrl": "https://lh3.googleusercontent.com/a-/AOh14GiQm2SXqfSQfQ_PjVMsk0AqTniOPCxTFikSIufN=s64",
      "userId": "17698375113513972403"
     },
     "user_tz": -330
    },
    "id": "lF5GGBti8dAk",
    "outputId": "1987c788-43b8-4010-ab9f-69988a1fc990"
   },
   "outputs": [
    {
     "data": {
      "text/html": [
       "<div>\n",
       "<style scoped>\n",
       "    .dataframe tbody tr th:only-of-type {\n",
       "        vertical-align: middle;\n",
       "    }\n",
       "\n",
       "    .dataframe tbody tr th {\n",
       "        vertical-align: top;\n",
       "    }\n",
       "\n",
       "    .dataframe thead th {\n",
       "        text-align: right;\n",
       "    }\n",
       "</style>\n",
       "<table border=\"1\" class=\"dataframe\">\n",
       "  <thead>\n",
       "    <tr style=\"text-align: right;\">\n",
       "      <th></th>\n",
       "      <th>area_type</th>\n",
       "      <th>availability</th>\n",
       "      <th>location</th>\n",
       "      <th>size</th>\n",
       "      <th>society</th>\n",
       "      <th>total_sqft</th>\n",
       "      <th>bath</th>\n",
       "      <th>balcony</th>\n",
       "      <th>price</th>\n",
       "    </tr>\n",
       "  </thead>\n",
       "  <tbody>\n",
       "    <tr>\n",
       "      <th>0</th>\n",
       "      <td>Super built-up  Area</td>\n",
       "      <td>19-Dec</td>\n",
       "      <td>Electronic City Phase II</td>\n",
       "      <td>2 BHK</td>\n",
       "      <td>Coomee</td>\n",
       "      <td>1056</td>\n",
       "      <td>2.0</td>\n",
       "      <td>1.0</td>\n",
       "      <td>39.07</td>\n",
       "    </tr>\n",
       "    <tr>\n",
       "      <th>1</th>\n",
       "      <td>Plot  Area</td>\n",
       "      <td>Ready To Move</td>\n",
       "      <td>Chikka Tirupathi</td>\n",
       "      <td>4 Bedroom</td>\n",
       "      <td>Theanmp</td>\n",
       "      <td>2600</td>\n",
       "      <td>5.0</td>\n",
       "      <td>3.0</td>\n",
       "      <td>120.00</td>\n",
       "    </tr>\n",
       "    <tr>\n",
       "      <th>2</th>\n",
       "      <td>Built-up  Area</td>\n",
       "      <td>Ready To Move</td>\n",
       "      <td>Uttarahalli</td>\n",
       "      <td>3 BHK</td>\n",
       "      <td>NaN</td>\n",
       "      <td>1440</td>\n",
       "      <td>2.0</td>\n",
       "      <td>3.0</td>\n",
       "      <td>62.00</td>\n",
       "    </tr>\n",
       "    <tr>\n",
       "      <th>3</th>\n",
       "      <td>Super built-up  Area</td>\n",
       "      <td>Ready To Move</td>\n",
       "      <td>Lingadheeranahalli</td>\n",
       "      <td>3 BHK</td>\n",
       "      <td>Soiewre</td>\n",
       "      <td>1521</td>\n",
       "      <td>3.0</td>\n",
       "      <td>1.0</td>\n",
       "      <td>95.00</td>\n",
       "    </tr>\n",
       "    <tr>\n",
       "      <th>4</th>\n",
       "      <td>Super built-up  Area</td>\n",
       "      <td>Ready To Move</td>\n",
       "      <td>Kothanur</td>\n",
       "      <td>2 BHK</td>\n",
       "      <td>NaN</td>\n",
       "      <td>1200</td>\n",
       "      <td>2.0</td>\n",
       "      <td>1.0</td>\n",
       "      <td>51.00</td>\n",
       "    </tr>\n",
       "  </tbody>\n",
       "</table>\n",
       "</div>"
      ],
      "text/plain": [
       "              area_type   availability                  location       size  \\\n",
       "0  Super built-up  Area         19-Dec  Electronic City Phase II      2 BHK   \n",
       "1            Plot  Area  Ready To Move          Chikka Tirupathi  4 Bedroom   \n",
       "2        Built-up  Area  Ready To Move               Uttarahalli      3 BHK   \n",
       "3  Super built-up  Area  Ready To Move        Lingadheeranahalli      3 BHK   \n",
       "4  Super built-up  Area  Ready To Move                  Kothanur      2 BHK   \n",
       "\n",
       "   society total_sqft  bath  balcony   price  \n",
       "0  Coomee        1056   2.0      1.0   39.07  \n",
       "1  Theanmp       2600   5.0      3.0  120.00  \n",
       "2      NaN       1440   2.0      3.0   62.00  \n",
       "3  Soiewre       1521   3.0      1.0   95.00  \n",
       "4      NaN       1200   2.0      1.0   51.00  "
      ]
     },
     "execution_count": 2,
     "metadata": {},
     "output_type": "execute_result"
    }
   ],
   "source": [
    "#df = pd.read_csv('/content/drive/My Drive/Data/datasets_20710_26737_Bengaluru_House_Data.csv')\n",
    "df = pd.read_csv('../Data/datasets_20710_26737_Bengaluru_House_Data.csv')\n",
    "df.head()"
   ]
  },
  {
   "cell_type": "code",
   "execution_count": 3,
   "metadata": {
    "colab": {
     "base_uri": "https://localhost:8080/",
     "height": 197
    },
    "colab_type": "code",
    "executionInfo": {
     "elapsed": 97837,
     "status": "ok",
     "timestamp": 1595587117127,
     "user": {
      "displayName": "Arijit Das",
      "photoUrl": "https://lh3.googleusercontent.com/a-/AOh14GiQm2SXqfSQfQ_PjVMsk0AqTniOPCxTFikSIufN=s64",
      "userId": "17698375113513972403"
     },
     "user_tz": -330
    },
    "id": "Mhnnqd1V8dAq",
    "outputId": "aa636d80-56ff-41e4-e712-90577a404ddb"
   },
   "outputs": [
    {
     "data": {
      "text/html": [
       "<div>\n",
       "<style scoped>\n",
       "    .dataframe tbody tr th:only-of-type {\n",
       "        vertical-align: middle;\n",
       "    }\n",
       "\n",
       "    .dataframe tbody tr th {\n",
       "        vertical-align: top;\n",
       "    }\n",
       "\n",
       "    .dataframe thead th {\n",
       "        text-align: right;\n",
       "    }\n",
       "</style>\n",
       "<table border=\"1\" class=\"dataframe\">\n",
       "  <thead>\n",
       "    <tr style=\"text-align: right;\">\n",
       "      <th></th>\n",
       "      <th>location</th>\n",
       "      <th>size</th>\n",
       "      <th>total_sqft</th>\n",
       "      <th>bath</th>\n",
       "      <th>price</th>\n",
       "    </tr>\n",
       "  </thead>\n",
       "  <tbody>\n",
       "    <tr>\n",
       "      <th>0</th>\n",
       "      <td>Electronic City Phase II</td>\n",
       "      <td>2 BHK</td>\n",
       "      <td>1056</td>\n",
       "      <td>2.0</td>\n",
       "      <td>39.07</td>\n",
       "    </tr>\n",
       "    <tr>\n",
       "      <th>1</th>\n",
       "      <td>Chikka Tirupathi</td>\n",
       "      <td>4 Bedroom</td>\n",
       "      <td>2600</td>\n",
       "      <td>5.0</td>\n",
       "      <td>120.00</td>\n",
       "    </tr>\n",
       "    <tr>\n",
       "      <th>2</th>\n",
       "      <td>Uttarahalli</td>\n",
       "      <td>3 BHK</td>\n",
       "      <td>1440</td>\n",
       "      <td>2.0</td>\n",
       "      <td>62.00</td>\n",
       "    </tr>\n",
       "    <tr>\n",
       "      <th>3</th>\n",
       "      <td>Lingadheeranahalli</td>\n",
       "      <td>3 BHK</td>\n",
       "      <td>1521</td>\n",
       "      <td>3.0</td>\n",
       "      <td>95.00</td>\n",
       "    </tr>\n",
       "    <tr>\n",
       "      <th>4</th>\n",
       "      <td>Kothanur</td>\n",
       "      <td>2 BHK</td>\n",
       "      <td>1200</td>\n",
       "      <td>2.0</td>\n",
       "      <td>51.00</td>\n",
       "    </tr>\n",
       "  </tbody>\n",
       "</table>\n",
       "</div>"
      ],
      "text/plain": [
       "                   location       size total_sqft  bath   price\n",
       "0  Electronic City Phase II      2 BHK       1056   2.0   39.07\n",
       "1          Chikka Tirupathi  4 Bedroom       2600   5.0  120.00\n",
       "2               Uttarahalli      3 BHK       1440   2.0   62.00\n",
       "3        Lingadheeranahalli      3 BHK       1521   3.0   95.00\n",
       "4                  Kothanur      2 BHK       1200   2.0   51.00"
      ]
     },
     "execution_count": 3,
     "metadata": {},
     "output_type": "execute_result"
    }
   ],
   "source": [
    "# Data cleaning\n",
    "df1 = df.drop(['area_type','society','balcony','availability'],axis='columns')\n",
    "df1.head()"
   ]
  },
  {
   "cell_type": "code",
   "execution_count": 4,
   "metadata": {
    "colab": {},
    "colab_type": "code",
    "executionInfo": {
     "elapsed": 97821,
     "status": "ok",
     "timestamp": 1595587117129,
     "user": {
      "displayName": "Arijit Das",
      "photoUrl": "https://lh3.googleusercontent.com/a-/AOh14GiQm2SXqfSQfQ_PjVMsk0AqTniOPCxTFikSIufN=s64",
      "userId": "17698375113513972403"
     },
     "user_tz": -330
    },
    "id": "wz8Jx40C8dAv"
   },
   "outputs": [],
   "source": [
    "df1.isnull().sum()\n",
    "df2=df1.dropna()"
   ]
  },
  {
   "cell_type": "code",
   "execution_count": 5,
   "metadata": {
    "colab": {
     "base_uri": "https://localhost:8080/",
     "height": 116
    },
    "colab_type": "code",
    "executionInfo": {
     "elapsed": 97796,
     "status": "ok",
     "timestamp": 1595587117130,
     "user": {
      "displayName": "Arijit Das",
      "photoUrl": "https://lh3.googleusercontent.com/a-/AOh14GiQm2SXqfSQfQ_PjVMsk0AqTniOPCxTFikSIufN=s64",
      "userId": "17698375113513972403"
     },
     "user_tz": -330
    },
    "id": "Hga5_qxf8dAy",
    "outputId": "d0375c47-8369-41e3-b72f-aaedf42137fc"
   },
   "outputs": [
    {
     "data": {
      "text/plain": [
       "array(['2 BHK', '4 Bedroom', '3 BHK', '4 BHK', '6 Bedroom', '3 Bedroom',\n",
       "       '1 BHK', '1 RK', '1 Bedroom', '8 Bedroom', '2 Bedroom',\n",
       "       '7 Bedroom', '5 BHK', '7 BHK', '6 BHK', '5 Bedroom', '11 BHK',\n",
       "       '9 BHK', '9 Bedroom', '27 BHK', '10 Bedroom', '11 Bedroom',\n",
       "       '10 BHK', '19 BHK', '16 BHK', '43 Bedroom', '14 BHK', '8 BHK',\n",
       "       '12 Bedroom', '13 BHK', '18 Bedroom'], dtype=object)"
      ]
     },
     "execution_count": 5,
     "metadata": {},
     "output_type": "execute_result"
    }
   ],
   "source": [
    "df2['size'].unique()"
   ]
  },
  {
   "cell_type": "code",
   "execution_count": 6,
   "metadata": {
    "colab": {
     "base_uri": "https://localhost:8080/",
     "height": 297
    },
    "colab_type": "code",
    "executionInfo": {
     "elapsed": 97756,
     "status": "ok",
     "timestamp": 1595587117131,
     "user": {
      "displayName": "Arijit Das",
      "photoUrl": "https://lh3.googleusercontent.com/a-/AOh14GiQm2SXqfSQfQ_PjVMsk0AqTniOPCxTFikSIufN=s64",
      "userId": "17698375113513972403"
     },
     "user_tz": -330
    },
    "id": "18dfrrkK8dA2",
    "outputId": "ae69a4e2-3277-4104-f6e3-779ad40739cc"
   },
   "outputs": [
    {
     "name": "stderr",
     "output_type": "stream",
     "text": [
      "C:\\Users\\Ari\\Anaconda3\\lib\\site-packages\\ipykernel_launcher.py:1: SettingWithCopyWarning: \n",
      "A value is trying to be set on a copy of a slice from a DataFrame.\n",
      "Try using .loc[row_indexer,col_indexer] = value instead\n",
      "\n",
      "See the caveats in the documentation: http://pandas.pydata.org/pandas-docs/stable/indexing.html#indexing-view-versus-copy\n",
      "  \"\"\"Entry point for launching an IPython kernel.\n"
     ]
    },
    {
     "data": {
      "text/html": [
       "<div>\n",
       "<style scoped>\n",
       "    .dataframe tbody tr th:only-of-type {\n",
       "        vertical-align: middle;\n",
       "    }\n",
       "\n",
       "    .dataframe tbody tr th {\n",
       "        vertical-align: top;\n",
       "    }\n",
       "\n",
       "    .dataframe thead th {\n",
       "        text-align: right;\n",
       "    }\n",
       "</style>\n",
       "<table border=\"1\" class=\"dataframe\">\n",
       "  <thead>\n",
       "    <tr style=\"text-align: right;\">\n",
       "      <th></th>\n",
       "      <th>location</th>\n",
       "      <th>total_sqft</th>\n",
       "      <th>bath</th>\n",
       "      <th>price</th>\n",
       "      <th>bhk</th>\n",
       "    </tr>\n",
       "  </thead>\n",
       "  <tbody>\n",
       "    <tr>\n",
       "      <th>13315</th>\n",
       "      <td>Whitefield</td>\n",
       "      <td>3453</td>\n",
       "      <td>4.0</td>\n",
       "      <td>231.0</td>\n",
       "      <td>5</td>\n",
       "    </tr>\n",
       "    <tr>\n",
       "      <th>13316</th>\n",
       "      <td>Richards Town</td>\n",
       "      <td>3600</td>\n",
       "      <td>5.0</td>\n",
       "      <td>400.0</td>\n",
       "      <td>4</td>\n",
       "    </tr>\n",
       "    <tr>\n",
       "      <th>13317</th>\n",
       "      <td>Raja Rajeshwari Nagar</td>\n",
       "      <td>1141</td>\n",
       "      <td>2.0</td>\n",
       "      <td>60.0</td>\n",
       "      <td>2</td>\n",
       "    </tr>\n",
       "    <tr>\n",
       "      <th>13318</th>\n",
       "      <td>Padmanabhanagar</td>\n",
       "      <td>4689</td>\n",
       "      <td>4.0</td>\n",
       "      <td>488.0</td>\n",
       "      <td>4</td>\n",
       "    </tr>\n",
       "    <tr>\n",
       "      <th>13319</th>\n",
       "      <td>Doddathoguru</td>\n",
       "      <td>550</td>\n",
       "      <td>1.0</td>\n",
       "      <td>17.0</td>\n",
       "      <td>1</td>\n",
       "    </tr>\n",
       "  </tbody>\n",
       "</table>\n",
       "</div>"
      ],
      "text/plain": [
       "                    location total_sqft  bath  price bhk\n",
       "13315             Whitefield       3453   4.0  231.0   5\n",
       "13316          Richards Town       3600   5.0  400.0   4\n",
       "13317  Raja Rajeshwari Nagar       1141   2.0   60.0   2\n",
       "13318        Padmanabhanagar       4689   4.0  488.0   4\n",
       "13319           Doddathoguru        550   1.0   17.0   1"
      ]
     },
     "execution_count": 6,
     "metadata": {},
     "output_type": "execute_result"
    }
   ],
   "source": [
    "df2['bhk']= df2['size'].apply(lambda x: x.split(' ')[0])\n",
    "df3 = df2.drop(['size'],axis = 'columns')\n",
    "df3.tail()"
   ]
  },
  {
   "cell_type": "code",
   "execution_count": 7,
   "metadata": {
    "colab": {
     "base_uri": "https://localhost:8080/",
     "height": 350
    },
    "colab_type": "code",
    "executionInfo": {
     "elapsed": 97723,
     "status": "ok",
     "timestamp": 1595587117132,
     "user": {
      "displayName": "Arijit Das",
      "photoUrl": "https://lh3.googleusercontent.com/a-/AOh14GiQm2SXqfSQfQ_PjVMsk0AqTniOPCxTFikSIufN=s64",
      "userId": "17698375113513972403"
     },
     "user_tz": -330
    },
    "id": "rYWdSZ-p8dA6",
    "outputId": "dc472a84-f7df-4ba9-ea79-9ab8e6bf7c17"
   },
   "outputs": [
    {
     "data": {
      "text/plain": [
       "2     5527\n",
       "3     4832\n",
       "4     1395\n",
       "1      649\n",
       "5      353\n",
       "6      221\n",
       "7      100\n",
       "8       89\n",
       "9       54\n",
       "10      14\n",
       "11       4\n",
       "13       1\n",
       "43       1\n",
       "14       1\n",
       "27       1\n",
       "12       1\n",
       "19       1\n",
       "16       1\n",
       "18       1\n",
       "Name: bhk, dtype: int64"
      ]
     },
     "execution_count": 7,
     "metadata": {},
     "output_type": "execute_result"
    }
   ],
   "source": [
    "df3['bhk'].value_counts()\n"
   ]
  },
  {
   "cell_type": "code",
   "execution_count": 8,
   "metadata": {
    "colab": {
     "base_uri": "https://localhost:8080/",
     "height": 197
    },
    "colab_type": "code",
    "executionInfo": {
     "elapsed": 97681,
     "status": "ok",
     "timestamp": 1595587117133,
     "user": {
      "displayName": "Arijit Das",
      "photoUrl": "https://lh3.googleusercontent.com/a-/AOh14GiQm2SXqfSQfQ_PjVMsk0AqTniOPCxTFikSIufN=s64",
      "userId": "17698375113513972403"
     },
     "user_tz": -330
    },
    "id": "noIj5QlK8dA-",
    "outputId": "76b8a4f1-f125-4dc4-e3db-f5a13a825334"
   },
   "outputs": [
    {
     "data": {
      "text/html": [
       "<div>\n",
       "<style scoped>\n",
       "    .dataframe tbody tr th:only-of-type {\n",
       "        vertical-align: middle;\n",
       "    }\n",
       "\n",
       "    .dataframe tbody tr th {\n",
       "        vertical-align: top;\n",
       "    }\n",
       "\n",
       "    .dataframe thead th {\n",
       "        text-align: right;\n",
       "    }\n",
       "</style>\n",
       "<table border=\"1\" class=\"dataframe\">\n",
       "  <thead>\n",
       "    <tr style=\"text-align: right;\">\n",
       "      <th></th>\n",
       "      <th>location</th>\n",
       "      <th>total_sqft</th>\n",
       "      <th>bath</th>\n",
       "      <th>price</th>\n",
       "      <th>bhk</th>\n",
       "    </tr>\n",
       "  </thead>\n",
       "  <tbody>\n",
       "    <tr>\n",
       "      <th>30</th>\n",
       "      <td>Yelahanka</td>\n",
       "      <td>2100 - 2850</td>\n",
       "      <td>4.0</td>\n",
       "      <td>186.000</td>\n",
       "      <td>4</td>\n",
       "    </tr>\n",
       "    <tr>\n",
       "      <th>122</th>\n",
       "      <td>Hebbal</td>\n",
       "      <td>3067 - 8156</td>\n",
       "      <td>4.0</td>\n",
       "      <td>477.000</td>\n",
       "      <td>4</td>\n",
       "    </tr>\n",
       "    <tr>\n",
       "      <th>137</th>\n",
       "      <td>8th Phase JP Nagar</td>\n",
       "      <td>1042 - 1105</td>\n",
       "      <td>2.0</td>\n",
       "      <td>54.005</td>\n",
       "      <td>2</td>\n",
       "    </tr>\n",
       "    <tr>\n",
       "      <th>165</th>\n",
       "      <td>Sarjapur</td>\n",
       "      <td>1145 - 1340</td>\n",
       "      <td>2.0</td>\n",
       "      <td>43.490</td>\n",
       "      <td>2</td>\n",
       "    </tr>\n",
       "    <tr>\n",
       "      <th>188</th>\n",
       "      <td>KR Puram</td>\n",
       "      <td>1015 - 1540</td>\n",
       "      <td>2.0</td>\n",
       "      <td>56.800</td>\n",
       "      <td>2</td>\n",
       "    </tr>\n",
       "  </tbody>\n",
       "</table>\n",
       "</div>"
      ],
      "text/plain": [
       "               location   total_sqft  bath    price bhk\n",
       "30            Yelahanka  2100 - 2850   4.0  186.000   4\n",
       "122              Hebbal  3067 - 8156   4.0  477.000   4\n",
       "137  8th Phase JP Nagar  1042 - 1105   2.0   54.005   2\n",
       "165            Sarjapur  1145 - 1340   2.0   43.490   2\n",
       "188            KR Puram  1015 - 1540   2.0   56.800   2"
      ]
     },
     "execution_count": 8,
     "metadata": {},
     "output_type": "execute_result"
    }
   ],
   "source": [
    "def checkFloat(x):\n",
    "    try:\n",
    "        float(x)\n",
    "    except:\n",
    "        return False\n",
    "    return True\n",
    "        \n",
    "df3[~df3.total_sqft.apply(checkFloat)].head()"
   ]
  },
  {
   "cell_type": "code",
   "execution_count": 9,
   "metadata": {
    "colab": {},
    "colab_type": "code",
    "executionInfo": {
     "elapsed": 97644,
     "status": "ok",
     "timestamp": 1595587117134,
     "user": {
      "displayName": "Arijit Das",
      "photoUrl": "https://lh3.googleusercontent.com/a-/AOh14GiQm2SXqfSQfQ_PjVMsk0AqTniOPCxTFikSIufN=s64",
      "userId": "17698375113513972403"
     },
     "user_tz": -330
    },
    "id": "1zpXledx8dBC"
   },
   "outputs": [],
   "source": [
    "# Not going to tackle the unit conversions, however will fix the range problem by taking avg of two\n",
    "def isSqft(x):\n",
    "    try:\n",
    "        if len(x.split('-'))>1:\n",
    "            return float(x.split('-')[0]) + float(x.split('-')[1])/2\n",
    "        else:\n",
    "            return float(x)\n",
    "    except:\n",
    "        return None       \n"
   ]
  },
  {
   "cell_type": "code",
   "execution_count": 10,
   "metadata": {
    "colab": {},
    "colab_type": "code",
    "executionInfo": {
     "elapsed": 97625,
     "status": "ok",
     "timestamp": 1595587117135,
     "user": {
      "displayName": "Arijit Das",
      "photoUrl": "https://lh3.googleusercontent.com/a-/AOh14GiQm2SXqfSQfQ_PjVMsk0AqTniOPCxTFikSIufN=s64",
      "userId": "17698375113513972403"
     },
     "user_tz": -330
    },
    "id": "-UqaONg38dBF"
   },
   "outputs": [],
   "source": [
    "#df3['total_sqft']=df3.total_sqft.apply(lambda x: (float(x.split('-')[0]) + float(x.split('-')[1])/2) if len(x.split('-'))>1 else x)\n",
    "df4 = df3.copy()\n",
    "df4['total_sqft'] = df4.total_sqft.apply(isSqft)"
   ]
  },
  {
   "cell_type": "code",
   "execution_count": 11,
   "metadata": {
    "colab": {},
    "colab_type": "code",
    "executionInfo": {
     "elapsed": 97611,
     "status": "ok",
     "timestamp": 1595587117136,
     "user": {
      "displayName": "Arijit Das",
      "photoUrl": "https://lh3.googleusercontent.com/a-/AOh14GiQm2SXqfSQfQ_PjVMsk0AqTniOPCxTFikSIufN=s64",
      "userId": "17698375113513972403"
     },
     "user_tz": -330
    },
    "id": "P-FOnAMb8dBI"
   },
   "outputs": [],
   "source": [
    "# Feature Engineering\n",
    "\n",
    "# Calculdate price/sqft\n",
    "df5 =  df4.copy()\n",
    "df5['price_sqft'] = df4['price']*100000/df4['total_sqft']\n",
    "df5['price_sqft'] = df5['price_sqft'].astype(float)"
   ]
  },
  {
   "cell_type": "code",
   "execution_count": 12,
   "metadata": {
    "colab": {
     "base_uri": "https://localhost:8080/",
     "height": 197
    },
    "colab_type": "code",
    "executionInfo": {
     "elapsed": 97594,
     "status": "ok",
     "timestamp": 1595587117137,
     "user": {
      "displayName": "Arijit Das",
      "photoUrl": "https://lh3.googleusercontent.com/a-/AOh14GiQm2SXqfSQfQ_PjVMsk0AqTniOPCxTFikSIufN=s64",
      "userId": "17698375113513972403"
     },
     "user_tz": -330
    },
    "id": "weZvw5uA8dBL",
    "outputId": "94c60929-b536-4bd4-a7ce-abfd0291a222"
   },
   "outputs": [
    {
     "data": {
      "text/html": [
       "<div>\n",
       "<style scoped>\n",
       "    .dataframe tbody tr th:only-of-type {\n",
       "        vertical-align: middle;\n",
       "    }\n",
       "\n",
       "    .dataframe tbody tr th {\n",
       "        vertical-align: top;\n",
       "    }\n",
       "\n",
       "    .dataframe thead th {\n",
       "        text-align: right;\n",
       "    }\n",
       "</style>\n",
       "<table border=\"1\" class=\"dataframe\">\n",
       "  <thead>\n",
       "    <tr style=\"text-align: right;\">\n",
       "      <th></th>\n",
       "      <th>location</th>\n",
       "      <th>total_sqft</th>\n",
       "      <th>bath</th>\n",
       "      <th>price</th>\n",
       "      <th>bhk</th>\n",
       "      <th>price_sqft</th>\n",
       "    </tr>\n",
       "  </thead>\n",
       "  <tbody>\n",
       "    <tr>\n",
       "      <th>0</th>\n",
       "      <td>Electronic City Phase II</td>\n",
       "      <td>1056.0</td>\n",
       "      <td>2.0</td>\n",
       "      <td>39.07</td>\n",
       "      <td>2</td>\n",
       "      <td>3699.810606</td>\n",
       "    </tr>\n",
       "    <tr>\n",
       "      <th>1</th>\n",
       "      <td>Chikka Tirupathi</td>\n",
       "      <td>2600.0</td>\n",
       "      <td>5.0</td>\n",
       "      <td>120.00</td>\n",
       "      <td>4</td>\n",
       "      <td>4615.384615</td>\n",
       "    </tr>\n",
       "    <tr>\n",
       "      <th>2</th>\n",
       "      <td>Uttarahalli</td>\n",
       "      <td>1440.0</td>\n",
       "      <td>2.0</td>\n",
       "      <td>62.00</td>\n",
       "      <td>3</td>\n",
       "      <td>4305.555556</td>\n",
       "    </tr>\n",
       "    <tr>\n",
       "      <th>3</th>\n",
       "      <td>Lingadheeranahalli</td>\n",
       "      <td>1521.0</td>\n",
       "      <td>3.0</td>\n",
       "      <td>95.00</td>\n",
       "      <td>3</td>\n",
       "      <td>6245.890861</td>\n",
       "    </tr>\n",
       "    <tr>\n",
       "      <th>4</th>\n",
       "      <td>Kothanur</td>\n",
       "      <td>1200.0</td>\n",
       "      <td>2.0</td>\n",
       "      <td>51.00</td>\n",
       "      <td>2</td>\n",
       "      <td>4250.000000</td>\n",
       "    </tr>\n",
       "  </tbody>\n",
       "</table>\n",
       "</div>"
      ],
      "text/plain": [
       "                   location  total_sqft  bath   price bhk   price_sqft\n",
       "0  Electronic City Phase II      1056.0   2.0   39.07   2  3699.810606\n",
       "1          Chikka Tirupathi      2600.0   5.0  120.00   4  4615.384615\n",
       "2               Uttarahalli      1440.0   2.0   62.00   3  4305.555556\n",
       "3        Lingadheeranahalli      1521.0   3.0   95.00   3  6245.890861\n",
       "4                  Kothanur      1200.0   2.0   51.00   2  4250.000000"
      ]
     },
     "execution_count": 12,
     "metadata": {},
     "output_type": "execute_result"
    }
   ],
   "source": [
    "df5.head()"
   ]
  },
  {
   "cell_type": "code",
   "execution_count": 13,
   "metadata": {
    "colab": {
     "base_uri": "https://localhost:8080/",
     "height": 233
    },
    "colab_type": "code",
    "executionInfo": {
     "elapsed": 97575,
     "status": "ok",
     "timestamp": 1595587117138,
     "user": {
      "displayName": "Arijit Das",
      "photoUrl": "https://lh3.googleusercontent.com/a-/AOh14GiQm2SXqfSQfQ_PjVMsk0AqTniOPCxTFikSIufN=s64",
      "userId": "17698375113513972403"
     },
     "user_tz": -330
    },
    "id": "qIknXxNu8dBO",
    "outputId": "056b70e5-783f-40f8-dc5b-cdfdb2edfc10"
   },
   "outputs": [
    {
     "data": {
      "text/plain": [
       "location\n",
       "BTM 1st Stage                                   10\n",
       "Basapura                                        10\n",
       "Sector 1 HSR Layout                             10\n",
       "Naganathapura                                   10\n",
       "Kalkere                                         10\n",
       "Nagadevanahalli                                 10\n",
       "Nagappa Reddy Layout                            10\n",
       "Sadashiva Nagar                                 10\n",
       "Gunjur Palya                                    10\n",
       "Dairy Circle                                    10\n",
       "Ganga Nagar                                     10\n",
       "Dodsworth Layout                                10\n",
       "1st Block Koramangala                           10\n",
       "Chandra Layout                                   9\n",
       "Jakkur Plantation                                9\n",
       "2nd Phase JP Nagar                               9\n",
       "Yemlur                                           9\n",
       "Mathikere                                        9\n",
       "Medahalli                                        9\n",
       "Volagerekallahalli                               9\n",
       "4th Block Koramangala                            9\n",
       "Vishwanatha Nagenahalli                          9\n",
       "B Narayanapura                                   9\n",
       "KUDLU MAIN ROAD                                  9\n",
       "Ejipura                                          9\n",
       "Vignana Nagar                                    9\n",
       "Peenya                                           9\n",
       "Kaverappa Layout                                 9\n",
       "Banagiri Nagar                                   9\n",
       "Gollahalli                                       9\n",
       "                                                ..\n",
       "white field,kadugodi                             1\n",
       "Kanakapura Main Road                             1\n",
       "Kanakapura  Rod                                  1\n",
       "Kanakapur main road                              1\n",
       "Kanakadasa Layout                                1\n",
       "Kamdhenu Nagar                                   1\n",
       "Kalkere Channasandra                             1\n",
       "Kalhalli                                         1\n",
       "Kengeri Satellite Town Stage II                  1\n",
       "Kodanda Reddy Layout                             1\n",
       "Malimakanapura                                   1\n",
       "Konappana Agrahara                               1\n",
       "Mailasandra                                      1\n",
       "Maheswari Nagar                                  1\n",
       "Madanayakahalli                                  1\n",
       "MRCR Layout                                      1\n",
       "MM Layout                                        1\n",
       "MEI layout, Bagalgunte                           1\n",
       "M.G Road                                         1\n",
       "M C Layout                                       1\n",
       "Laxminarayana Layout                             1\n",
       "Lalbagh Road                                     1\n",
       "Lakshmipura Vidyaanyapura                        1\n",
       "Lakshminarayanapura, Electronic City Phase 2     1\n",
       "Lakkasandra Extension                            1\n",
       "LIC Colony                                       1\n",
       "Kuvempu Layout                                   1\n",
       "Kumbhena Agrahara                                1\n",
       "Kudlu Village,                                   1\n",
       "1 Annasandrapalya                                1\n",
       "Name: location, Length: 1052, dtype: int64"
      ]
     },
     "execution_count": 13,
     "metadata": {},
     "output_type": "execute_result"
    }
   ],
   "source": [
    "df5['location'] = df5['location'].apply(lambda x: x.strip())\n",
    "location_stats = df5.groupby('location')['location'].agg('count').sort_values(ascending =False)\n",
    "location_stats[location_stats<=10]"
   ]
  },
  {
   "cell_type": "code",
   "execution_count": 14,
   "metadata": {
    "colab": {},
    "colab_type": "code",
    "executionInfo": {
     "elapsed": 104088,
     "status": "ok",
     "timestamp": 1595587123675,
     "user": {
      "displayName": "Arijit Das",
      "photoUrl": "https://lh3.googleusercontent.com/a-/AOh14GiQm2SXqfSQfQ_PjVMsk0AqTniOPCxTFikSIufN=s64",
      "userId": "17698375113513972403"
     },
     "user_tz": -330
    },
    "id": "wo2PO26x8dBS"
   },
   "outputs": [],
   "source": [
    "df5.location = df5.location.apply(lambda x: 'other' if x in location_stats[location_stats<=10] else x)"
   ]
  },
  {
   "cell_type": "code",
   "execution_count": 15,
   "metadata": {
    "colab": {
     "base_uri": "https://localhost:8080/",
     "height": 33
    },
    "colab_type": "code",
    "executionInfo": {
     "elapsed": 104071,
     "status": "ok",
     "timestamp": 1595587123678,
     "user": {
      "displayName": "Arijit Das",
      "photoUrl": "https://lh3.googleusercontent.com/a-/AOh14GiQm2SXqfSQfQ_PjVMsk0AqTniOPCxTFikSIufN=s64",
      "userId": "17698375113513972403"
     },
     "user_tz": -330
    },
    "id": "x7wZNK_y8dBV",
    "outputId": "3d440817-2c7b-4d27-c592-fd86f7d46072"
   },
   "outputs": [
    {
     "data": {
      "text/plain": [
       "242"
      ]
     },
     "execution_count": 15,
     "metadata": {},
     "output_type": "execute_result"
    }
   ],
   "source": [
    "len(df5.location.unique()) # This should help when we are gonna apply Onehotencoding"
   ]
  },
  {
   "cell_type": "code",
   "execution_count": 17,
   "metadata": {
    "colab": {
     "base_uri": "https://localhost:8080/",
     "height": 406
    },
    "colab_type": "code",
    "executionInfo": {
     "elapsed": 104046,
     "status": "ok",
     "timestamp": 1595587123679,
     "user": {
      "displayName": "Arijit Das",
      "photoUrl": "https://lh3.googleusercontent.com/a-/AOh14GiQm2SXqfSQfQ_PjVMsk0AqTniOPCxTFikSIufN=s64",
      "userId": "17698375113513972403"
     },
     "user_tz": -330
    },
    "id": "2rnCY7lt8dBY",
    "outputId": "988ffd8d-c7c5-492f-acf8-440ec459a0ce"
   },
   "outputs": [
    {
     "data": {
      "text/html": [
       "<div>\n",
       "<style scoped>\n",
       "    .dataframe tbody tr th:only-of-type {\n",
       "        vertical-align: middle;\n",
       "    }\n",
       "\n",
       "    .dataframe tbody tr th {\n",
       "        vertical-align: top;\n",
       "    }\n",
       "\n",
       "    .dataframe thead th {\n",
       "        text-align: right;\n",
       "    }\n",
       "</style>\n",
       "<table border=\"1\" class=\"dataframe\">\n",
       "  <thead>\n",
       "    <tr style=\"text-align: right;\">\n",
       "      <th></th>\n",
       "      <th>location</th>\n",
       "      <th>total_sqft</th>\n",
       "      <th>bath</th>\n",
       "      <th>price</th>\n",
       "      <th>bhk</th>\n",
       "      <th>price_sqft</th>\n",
       "    </tr>\n",
       "  </thead>\n",
       "  <tbody>\n",
       "    <tr>\n",
       "      <th>0</th>\n",
       "      <td>Electronic City Phase II</td>\n",
       "      <td>1056.0</td>\n",
       "      <td>2.0</td>\n",
       "      <td>39.07</td>\n",
       "      <td>2</td>\n",
       "      <td>3699.810606</td>\n",
       "    </tr>\n",
       "    <tr>\n",
       "      <th>1</th>\n",
       "      <td>Chikka Tirupathi</td>\n",
       "      <td>2600.0</td>\n",
       "      <td>5.0</td>\n",
       "      <td>120.00</td>\n",
       "      <td>4</td>\n",
       "      <td>4615.384615</td>\n",
       "    </tr>\n",
       "    <tr>\n",
       "      <th>2</th>\n",
       "      <td>Uttarahalli</td>\n",
       "      <td>1440.0</td>\n",
       "      <td>2.0</td>\n",
       "      <td>62.00</td>\n",
       "      <td>3</td>\n",
       "      <td>4305.555556</td>\n",
       "    </tr>\n",
       "    <tr>\n",
       "      <th>3</th>\n",
       "      <td>Lingadheeranahalli</td>\n",
       "      <td>1521.0</td>\n",
       "      <td>3.0</td>\n",
       "      <td>95.00</td>\n",
       "      <td>3</td>\n",
       "      <td>6245.890861</td>\n",
       "    </tr>\n",
       "    <tr>\n",
       "      <th>4</th>\n",
       "      <td>Kothanur</td>\n",
       "      <td>1200.0</td>\n",
       "      <td>2.0</td>\n",
       "      <td>51.00</td>\n",
       "      <td>2</td>\n",
       "      <td>4250.000000</td>\n",
       "    </tr>\n",
       "    <tr>\n",
       "      <th>...</th>\n",
       "      <td>...</td>\n",
       "      <td>...</td>\n",
       "      <td>...</td>\n",
       "      <td>...</td>\n",
       "      <td>...</td>\n",
       "      <td>...</td>\n",
       "    </tr>\n",
       "    <tr>\n",
       "      <th>13315</th>\n",
       "      <td>Whitefield</td>\n",
       "      <td>3453.0</td>\n",
       "      <td>4.0</td>\n",
       "      <td>231.00</td>\n",
       "      <td>5</td>\n",
       "      <td>6689.834926</td>\n",
       "    </tr>\n",
       "    <tr>\n",
       "      <th>13316</th>\n",
       "      <td>other</td>\n",
       "      <td>3600.0</td>\n",
       "      <td>5.0</td>\n",
       "      <td>400.00</td>\n",
       "      <td>4</td>\n",
       "      <td>11111.111111</td>\n",
       "    </tr>\n",
       "    <tr>\n",
       "      <th>13317</th>\n",
       "      <td>Raja Rajeshwari Nagar</td>\n",
       "      <td>1141.0</td>\n",
       "      <td>2.0</td>\n",
       "      <td>60.00</td>\n",
       "      <td>2</td>\n",
       "      <td>5258.545136</td>\n",
       "    </tr>\n",
       "    <tr>\n",
       "      <th>13318</th>\n",
       "      <td>Padmanabhanagar</td>\n",
       "      <td>4689.0</td>\n",
       "      <td>4.0</td>\n",
       "      <td>488.00</td>\n",
       "      <td>4</td>\n",
       "      <td>10407.336319</td>\n",
       "    </tr>\n",
       "    <tr>\n",
       "      <th>13319</th>\n",
       "      <td>Doddathoguru</td>\n",
       "      <td>550.0</td>\n",
       "      <td>1.0</td>\n",
       "      <td>17.00</td>\n",
       "      <td>1</td>\n",
       "      <td>3090.909091</td>\n",
       "    </tr>\n",
       "  </tbody>\n",
       "</table>\n",
       "<p>13246 rows × 6 columns</p>\n",
       "</div>"
      ],
      "text/plain": [
       "                       location  total_sqft  bath   price bhk    price_sqft\n",
       "0      Electronic City Phase II      1056.0   2.0   39.07   2   3699.810606\n",
       "1              Chikka Tirupathi      2600.0   5.0  120.00   4   4615.384615\n",
       "2                   Uttarahalli      1440.0   2.0   62.00   3   4305.555556\n",
       "3            Lingadheeranahalli      1521.0   3.0   95.00   3   6245.890861\n",
       "4                      Kothanur      1200.0   2.0   51.00   2   4250.000000\n",
       "...                         ...         ...   ...     ...  ..           ...\n",
       "13315                Whitefield      3453.0   4.0  231.00   5   6689.834926\n",
       "13316                     other      3600.0   5.0  400.00   4  11111.111111\n",
       "13317     Raja Rajeshwari Nagar      1141.0   2.0   60.00   2   5258.545136\n",
       "13318           Padmanabhanagar      4689.0   4.0  488.00   4  10407.336319\n",
       "13319              Doddathoguru       550.0   1.0   17.00   1   3090.909091\n",
       "\n",
       "[13246 rows x 6 columns]"
      ]
     },
     "execution_count": 17,
     "metadata": {
      "tags": []
     },
     "output_type": "execute_result"
    }
   ],
   "source": [
    "df5"
   ]
  },
  {
   "cell_type": "code",
   "execution_count": 16,
   "metadata": {
    "colab": {},
    "colab_type": "code",
    "executionInfo": {
     "elapsed": 104022,
     "status": "ok",
     "timestamp": 1595587123681,
     "user": {
      "displayName": "Arijit Das",
      "photoUrl": "https://lh3.googleusercontent.com/a-/AOh14GiQm2SXqfSQfQ_PjVMsk0AqTniOPCxTFikSIufN=s64",
      "userId": "17698375113513972403"
     },
     "user_tz": -330
    },
    "id": "4Lckmtxs8dBc"
   },
   "outputs": [],
   "source": [
    "# Remove outlier\n",
    "df5.total_sqft = df5.total_sqft.astype(float)\n",
    "df5.bhk = df5.bhk.astype(float)\n",
    "df6 = df5[~(df5.total_sqft/df5.bhk<300)]"
   ]
  },
  {
   "cell_type": "code",
   "execution_count": 17,
   "metadata": {
    "colab": {},
    "colab_type": "code",
    "executionInfo": {
     "elapsed": 104004,
     "status": "ok",
     "timestamp": 1595587123683,
     "user": {
      "displayName": "Arijit Das",
      "photoUrl": "https://lh3.googleusercontent.com/a-/AOh14GiQm2SXqfSQfQ_PjVMsk0AqTniOPCxTFikSIufN=s64",
      "userId": "17698375113513972403"
     },
     "user_tz": -330
    },
    "id": "REP0F5jm8dBf"
   },
   "outputs": [],
   "source": [
    "# Check for the outlier, and removing using z score\n",
    "df6.price_sqft.describe()\n",
    "def removeOutlier(df_arg):\n",
    "    df_out = pd.DataFrame()\n",
    "    for key, subdf in df_arg.groupby('location'):\n",
    "        m = np.mean(subdf.price_sqft)\n",
    "        sd = np.std(subdf.price_sqft)\n",
    "        reduced_df = subdf[(subdf.price_sqft > (m-sd)) & (subdf.price_sqft <= (m+sd))]\n",
    "        df_out = pd.concat([df_out,reduced_df], ignore_index=True)\n",
    "    return df_out"
   ]
  },
  {
   "cell_type": "code",
   "execution_count": 18,
   "metadata": {
    "colab": {},
    "colab_type": "code",
    "executionInfo": {
     "elapsed": 103990,
     "status": "ok",
     "timestamp": 1595587123684,
     "user": {
      "displayName": "Arijit Das",
      "photoUrl": "https://lh3.googleusercontent.com/a-/AOh14GiQm2SXqfSQfQ_PjVMsk0AqTniOPCxTFikSIufN=s64",
      "userId": "17698375113513972403"
     },
     "user_tz": -330
    },
    "id": "QLNQLbq0d-dn"
   },
   "outputs": [],
   "source": [
    "df7 = removeOutlier(df6)"
   ]
  },
  {
   "cell_type": "code",
   "execution_count": 19,
   "metadata": {
    "colab": {},
    "colab_type": "code",
    "executionInfo": {
     "elapsed": 103976,
     "status": "ok",
     "timestamp": 1595587123686,
     "user": {
      "displayName": "Arijit Das",
      "photoUrl": "https://lh3.googleusercontent.com/a-/AOh14GiQm2SXqfSQfQ_PjVMsk0AqTniOPCxTFikSIufN=s64",
      "userId": "17698375113513972403"
     },
     "user_tz": -330
    },
    "id": "DYwbr_HKiNiz"
   },
   "outputs": [],
   "source": [
    "df8 = df7.drop(['price_sqft'], axis= 'columns')"
   ]
  },
  {
   "cell_type": "code",
   "execution_count": 20,
   "metadata": {
    "colab": {
     "base_uri": "https://localhost:8080/",
     "height": 296
    },
    "colab_type": "code",
    "executionInfo": {
     "elapsed": 104677,
     "status": "ok",
     "timestamp": 1595587124406,
     "user": {
      "displayName": "Arijit Das",
      "photoUrl": "https://lh3.googleusercontent.com/a-/AOh14GiQm2SXqfSQfQ_PjVMsk0AqTniOPCxTFikSIufN=s64",
      "userId": "17698375113513972403"
     },
     "user_tz": -330
    },
    "id": "bMlVxlcNmjke",
    "outputId": "6d5985ed-dc76-4316-88eb-d8b907ecf1f0"
   },
   "outputs": [
    {
     "data": {
      "text/html": [
       "<div>\n",
       "<style scoped>\n",
       "    .dataframe tbody tr th:only-of-type {\n",
       "        vertical-align: middle;\n",
       "    }\n",
       "\n",
       "    .dataframe tbody tr th {\n",
       "        vertical-align: top;\n",
       "    }\n",
       "\n",
       "    .dataframe thead th {\n",
       "        text-align: right;\n",
       "    }\n",
       "</style>\n",
       "<table border=\"1\" class=\"dataframe\">\n",
       "  <thead>\n",
       "    <tr style=\"text-align: right;\">\n",
       "      <th></th>\n",
       "      <th>total_sqft</th>\n",
       "      <th>bath</th>\n",
       "      <th>price</th>\n",
       "      <th>bhk</th>\n",
       "      <th>1st Block Jayanagar</th>\n",
       "      <th>1st Phase JP Nagar</th>\n",
       "      <th>2nd Phase Judicial Layout</th>\n",
       "      <th>2nd Stage Nagarbhavi</th>\n",
       "      <th>5th Block Hbr Layout</th>\n",
       "      <th>5th Phase JP Nagar</th>\n",
       "      <th>...</th>\n",
       "      <th>Vijayanagar</th>\n",
       "      <th>Vishveshwarya Layout</th>\n",
       "      <th>Vishwapriya Layout</th>\n",
       "      <th>Vittasandra</th>\n",
       "      <th>Whitefield</th>\n",
       "      <th>Yelachenahalli</th>\n",
       "      <th>Yelahanka</th>\n",
       "      <th>Yelahanka New Town</th>\n",
       "      <th>Yelenahalli</th>\n",
       "      <th>Yeshwanthpur</th>\n",
       "    </tr>\n",
       "  </thead>\n",
       "  <tbody>\n",
       "    <tr>\n",
       "      <th>0</th>\n",
       "      <td>2850.0</td>\n",
       "      <td>4.0</td>\n",
       "      <td>428.0</td>\n",
       "      <td>4.0</td>\n",
       "      <td>1</td>\n",
       "      <td>0</td>\n",
       "      <td>0</td>\n",
       "      <td>0</td>\n",
       "      <td>0</td>\n",
       "      <td>0</td>\n",
       "      <td>...</td>\n",
       "      <td>0</td>\n",
       "      <td>0</td>\n",
       "      <td>0</td>\n",
       "      <td>0</td>\n",
       "      <td>0</td>\n",
       "      <td>0</td>\n",
       "      <td>0</td>\n",
       "      <td>0</td>\n",
       "      <td>0</td>\n",
       "      <td>0</td>\n",
       "    </tr>\n",
       "    <tr>\n",
       "      <th>1</th>\n",
       "      <td>1630.0</td>\n",
       "      <td>3.0</td>\n",
       "      <td>194.0</td>\n",
       "      <td>3.0</td>\n",
       "      <td>1</td>\n",
       "      <td>0</td>\n",
       "      <td>0</td>\n",
       "      <td>0</td>\n",
       "      <td>0</td>\n",
       "      <td>0</td>\n",
       "      <td>...</td>\n",
       "      <td>0</td>\n",
       "      <td>0</td>\n",
       "      <td>0</td>\n",
       "      <td>0</td>\n",
       "      <td>0</td>\n",
       "      <td>0</td>\n",
       "      <td>0</td>\n",
       "      <td>0</td>\n",
       "      <td>0</td>\n",
       "      <td>0</td>\n",
       "    </tr>\n",
       "    <tr>\n",
       "      <th>2</th>\n",
       "      <td>1875.0</td>\n",
       "      <td>2.0</td>\n",
       "      <td>235.0</td>\n",
       "      <td>3.0</td>\n",
       "      <td>1</td>\n",
       "      <td>0</td>\n",
       "      <td>0</td>\n",
       "      <td>0</td>\n",
       "      <td>0</td>\n",
       "      <td>0</td>\n",
       "      <td>...</td>\n",
       "      <td>0</td>\n",
       "      <td>0</td>\n",
       "      <td>0</td>\n",
       "      <td>0</td>\n",
       "      <td>0</td>\n",
       "      <td>0</td>\n",
       "      <td>0</td>\n",
       "      <td>0</td>\n",
       "      <td>0</td>\n",
       "      <td>0</td>\n",
       "    </tr>\n",
       "    <tr>\n",
       "      <th>3</th>\n",
       "      <td>1200.0</td>\n",
       "      <td>2.0</td>\n",
       "      <td>130.0</td>\n",
       "      <td>3.0</td>\n",
       "      <td>1</td>\n",
       "      <td>0</td>\n",
       "      <td>0</td>\n",
       "      <td>0</td>\n",
       "      <td>0</td>\n",
       "      <td>0</td>\n",
       "      <td>...</td>\n",
       "      <td>0</td>\n",
       "      <td>0</td>\n",
       "      <td>0</td>\n",
       "      <td>0</td>\n",
       "      <td>0</td>\n",
       "      <td>0</td>\n",
       "      <td>0</td>\n",
       "      <td>0</td>\n",
       "      <td>0</td>\n",
       "      <td>0</td>\n",
       "    </tr>\n",
       "    <tr>\n",
       "      <th>4</th>\n",
       "      <td>1235.0</td>\n",
       "      <td>2.0</td>\n",
       "      <td>148.0</td>\n",
       "      <td>2.0</td>\n",
       "      <td>1</td>\n",
       "      <td>0</td>\n",
       "      <td>0</td>\n",
       "      <td>0</td>\n",
       "      <td>0</td>\n",
       "      <td>0</td>\n",
       "      <td>...</td>\n",
       "      <td>0</td>\n",
       "      <td>0</td>\n",
       "      <td>0</td>\n",
       "      <td>0</td>\n",
       "      <td>0</td>\n",
       "      <td>0</td>\n",
       "      <td>0</td>\n",
       "      <td>0</td>\n",
       "      <td>0</td>\n",
       "      <td>0</td>\n",
       "    </tr>\n",
       "  </tbody>\n",
       "</table>\n",
       "<p>5 rows × 245 columns</p>\n",
       "</div>"
      ],
      "text/plain": [
       "   total_sqft  bath  price  bhk  1st Block Jayanagar  1st Phase JP Nagar  \\\n",
       "0      2850.0   4.0  428.0  4.0                    1                   0   \n",
       "1      1630.0   3.0  194.0  3.0                    1                   0   \n",
       "2      1875.0   2.0  235.0  3.0                    1                   0   \n",
       "3      1200.0   2.0  130.0  3.0                    1                   0   \n",
       "4      1235.0   2.0  148.0  2.0                    1                   0   \n",
       "\n",
       "   2nd Phase Judicial Layout  2nd Stage Nagarbhavi  5th Block Hbr Layout  \\\n",
       "0                          0                     0                     0   \n",
       "1                          0                     0                     0   \n",
       "2                          0                     0                     0   \n",
       "3                          0                     0                     0   \n",
       "4                          0                     0                     0   \n",
       "\n",
       "   5th Phase JP Nagar      ...       Vijayanagar  Vishveshwarya Layout  \\\n",
       "0                   0      ...                 0                     0   \n",
       "1                   0      ...                 0                     0   \n",
       "2                   0      ...                 0                     0   \n",
       "3                   0      ...                 0                     0   \n",
       "4                   0      ...                 0                     0   \n",
       "\n",
       "   Vishwapriya Layout  Vittasandra  Whitefield  Yelachenahalli  Yelahanka  \\\n",
       "0                   0            0           0               0          0   \n",
       "1                   0            0           0               0          0   \n",
       "2                   0            0           0               0          0   \n",
       "3                   0            0           0               0          0   \n",
       "4                   0            0           0               0          0   \n",
       "\n",
       "   Yelahanka New Town  Yelenahalli  Yeshwanthpur  \n",
       "0                   0            0             0  \n",
       "1                   0            0             0  \n",
       "2                   0            0             0  \n",
       "3                   0            0             0  \n",
       "4                   0            0             0  \n",
       "\n",
       "[5 rows x 245 columns]"
      ]
     },
     "execution_count": 20,
     "metadata": {},
     "output_type": "execute_result"
    }
   ],
   "source": [
    "#Using oneHotEncoding\n",
    "dummies = pd.get_dummies(df8.location)\n",
    "df9 = pd.concat([df8.drop(['location'], axis='columns'), dummies.drop(['other'],axis = 'columns')],axis = 'columns')\n",
    "df9.head()"
   ]
  },
  {
   "cell_type": "code",
   "execution_count": 39,
   "metadata": {
    "colab": {},
    "colab_type": "code",
    "executionInfo": {
     "elapsed": 104652,
     "status": "ok",
     "timestamp": 1595587124408,
     "user": {
      "displayName": "Arijit Das",
      "photoUrl": "https://lh3.googleusercontent.com/a-/AOh14GiQm2SXqfSQfQ_PjVMsk0AqTniOPCxTFikSIufN=s64",
      "userId": "17698375113513972403"
     },
     "user_tz": -330
    },
    "id": "w2qy12FmOLL1"
   },
   "outputs": [],
   "source": [
    "# Model building\n",
    "\n",
    "X= df9.drop(['price'],axis='columns')\n",
    "Y = df9.price"
   ]
  },
  {
   "cell_type": "code",
   "execution_count": 22,
   "metadata": {
    "colab": {},
    "colab_type": "code",
    "executionInfo": {
     "elapsed": 104639,
     "status": "ok",
     "timestamp": 1595587124409,
     "user": {
      "displayName": "Arijit Das",
      "photoUrl": "https://lh3.googleusercontent.com/a-/AOh14GiQm2SXqfSQfQ_PjVMsk0AqTniOPCxTFikSIufN=s64",
      "userId": "17698375113513972403"
     },
     "user_tz": -330
    },
    "id": "i2JUWqj7veff"
   },
   "outputs": [],
   "source": [
    "# Split the data\n",
    "from sklearn.model_selection import train_test_split\n",
    "X_train, X_test, Y_train, Y_test = train_test_split(X,Y,test_size = .2, random_state = 10)   \n"
   ]
  },
  {
   "cell_type": "code",
   "execution_count": 23,
   "metadata": {
    "colab": {
     "base_uri": "https://localhost:8080/",
     "height": 33
    },
    "colab_type": "code",
    "executionInfo": {
     "elapsed": 105323,
     "status": "ok",
     "timestamp": 1595587125113,
     "user": {
      "displayName": "Arijit Das",
      "photoUrl": "https://lh3.googleusercontent.com/a-/AOh14GiQm2SXqfSQfQ_PjVMsk0AqTniOPCxTFikSIufN=s64",
      "userId": "17698375113513972403"
     },
     "user_tz": -330
    },
    "id": "krdHrM5X13Y5",
    "outputId": "66c9cef4-4aea-4494-97ad-118b8260651c"
   },
   "outputs": [
    {
     "data": {
      "text/plain": [
       "0.844613795737013"
      ]
     },
     "execution_count": 23,
     "metadata": {},
     "output_type": "execute_result"
    }
   ],
   "source": [
    "#Use linear regression\n",
    "from sklearn.linear_model import LinearRegression\n",
    "lr = LinearRegression()\n",
    "lr.fit(X_train,Y_train)\n",
    "lr.score(X_test, Y_test)"
   ]
  },
  {
   "cell_type": "code",
   "execution_count": 24,
   "metadata": {
    "colab": {
     "base_uri": "https://localhost:8080/",
     "height": 50
    },
    "colab_type": "code",
    "executionInfo": {
     "elapsed": 110473,
     "status": "ok",
     "timestamp": 1595587130292,
     "user": {
      "displayName": "Arijit Das",
      "photoUrl": "https://lh3.googleusercontent.com/a-/AOh14GiQm2SXqfSQfQ_PjVMsk0AqTniOPCxTFikSIufN=s64",
      "userId": "17698375113513972403"
     },
     "user_tz": -330
    },
    "id": "oF8k1-sM2MZE",
    "outputId": "82be9307-8e11-4f39-bd31-d77e1e24ecb9"
   },
   "outputs": [
    {
     "data": {
      "text/plain": [
       "array([0.72343917, 0.86729659, 0.79579114, 0.82441973, 0.80496198,\n",
       "       0.85445537, 0.8503268 , 0.80721877, 0.75016849, 0.75648308])"
      ]
     },
     "execution_count": 24,
     "metadata": {},
     "output_type": "execute_result"
    }
   ],
   "source": [
    "#Using k-flod cross validation\n",
    "\n",
    "from sklearn.model_selection import ShuffleSplit, cross_val_score, StratifiedKFold\n",
    "\n",
    "cv = ShuffleSplit(n_splits=10, test_size=.2, random_state=0)\n",
    "cross_val_score(LinearRegression(), X,Y, cv=cv)"
   ]
  },
  {
   "cell_type": "markdown",
   "metadata": {
    "colab_type": "text",
    "id": "XywBp1EsrZ5K"
   },
   "source": [
    "# Hyperparameter tuning and selecting best model for regression"
   ]
  },
  {
   "cell_type": "code",
   "execution_count": 44,
   "metadata": {
    "colab": {},
    "colab_type": "code",
    "executionInfo": {
     "elapsed": 110451,
     "status": "ok",
     "timestamp": 1595587130295,
     "user": {
      "displayName": "Arijit Das",
      "photoUrl": "https://lh3.googleusercontent.com/a-/AOh14GiQm2SXqfSQfQ_PjVMsk0AqTniOPCxTFikSIufN=s64",
      "userId": "17698375113513972403"
     },
     "user_tz": -330
    },
    "id": "p-Twwa9J5FHh"
   },
   "outputs": [],
   "source": [
    "# Regression libs\n",
    "\n",
    "from sklearn.linear_model import Lasso, LinearRegression\n",
    "from sklearn.model_selection import GridSearchCV, RandomizedSearchCV\n",
    "from sklearn.tree import DecisionTreeRegressor\n",
    "from sklearn.neighbors import KNeighborsRegressor\n",
    "\n",
    "def find_best_model(X = None,Y= None):\n",
    "    algos={\n",
    "        'linear_regression': {\n",
    "            'model': LinearRegression(),\n",
    "            'params': {\n",
    "                'normalize': [True, False]\n",
    "            }\n",
    "            },\n",
    "          'lasso': {\n",
    "              'model': Lasso(),\n",
    "              'params': {\n",
    "                  'alpha': [1,2],\n",
    "                  'selection': ['random', 'cyclic']\n",
    "              }\n",
    "          },\n",
    "          'decision_tree': {\n",
    "              'model': DecisionTreeRegressor(),\n",
    "              'params':{\n",
    "                  'criterion': ['mse', 'friedman_mse'],\n",
    "                  'splitter': ['best','random']\n",
    "              }\n",
    "          },\n",
    "        'Knn_regression': {\n",
    "            'model': KNeighborsRegressor(),\n",
    "            'params':{\n",
    "                'n_neighbors': [2,3,4,5,6]\n",
    "            }\n",
    "        }\n",
    "    }\n",
    "    scores=[]\n",
    "    cv = ShuffleSplit(n_splits = 50, test_size=.2, random_state = 0)\n",
    "    for algo, config in algos.items():\n",
    "        gs = GridSearchCV(config['model'], config['params'], cv=cv, return_train_score = False)\n",
    "        gs.fit(X,Y)\n",
    "        scores.append({\n",
    "            'model':algo,\n",
    "            'best_score':gs.best_score_,\n",
    "            'best_param':gs.best_params_\n",
    "        })\n",
    "    return pd.DataFrame(scores,columns=['model','best_score','best_param'])"
   ]
  },
  {
   "cell_type": "code",
   "execution_count": 45,
   "metadata": {
    "colab": {
     "base_uri": "https://localhost:8080/",
     "height": 257
    },
    "colab_type": "code",
    "executionInfo": {
     "elapsed": 184247,
     "status": "ok",
     "timestamp": 1595587204114,
     "user": {
      "displayName": "Arijit Das",
      "photoUrl": "https://lh3.googleusercontent.com/a-/AOh14GiQm2SXqfSQfQ_PjVMsk0AqTniOPCxTFikSIufN=s64",
      "userId": "17698375113513972403"
     },
     "user_tz": -330
    },
    "id": "Sg2h1OH_w6kZ",
    "outputId": "6d71e724-345d-4021-9fc3-c711af71954a"
   },
   "outputs": [
    {
     "data": {
      "text/html": [
       "<div>\n",
       "<style scoped>\n",
       "    .dataframe tbody tr th:only-of-type {\n",
       "        vertical-align: middle;\n",
       "    }\n",
       "\n",
       "    .dataframe tbody tr th {\n",
       "        vertical-align: top;\n",
       "    }\n",
       "\n",
       "    .dataframe thead th {\n",
       "        text-align: right;\n",
       "    }\n",
       "</style>\n",
       "<table border=\"1\" class=\"dataframe\">\n",
       "  <thead>\n",
       "    <tr style=\"text-align: right;\">\n",
       "      <th></th>\n",
       "      <th>model</th>\n",
       "      <th>best_score</th>\n",
       "      <th>best_param</th>\n",
       "    </tr>\n",
       "  </thead>\n",
       "  <tbody>\n",
       "    <tr>\n",
       "      <th>0</th>\n",
       "      <td>linear_regression</td>\n",
       "      <td>0.798462</td>\n",
       "      <td>{'normalize': True}</td>\n",
       "    </tr>\n",
       "    <tr>\n",
       "      <th>1</th>\n",
       "      <td>lasso</td>\n",
       "      <td>0.671633</td>\n",
       "      <td>{'alpha': 1, 'selection': 'random'}</td>\n",
       "    </tr>\n",
       "    <tr>\n",
       "      <th>2</th>\n",
       "      <td>decision_tree</td>\n",
       "      <td>0.654814</td>\n",
       "      <td>{'criterion': 'friedman_mse', 'splitter': 'ran...</td>\n",
       "    </tr>\n",
       "    <tr>\n",
       "      <th>3</th>\n",
       "      <td>Knn_regression</td>\n",
       "      <td>0.632782</td>\n",
       "      <td>{'n_neighbors': 6}</td>\n",
       "    </tr>\n",
       "  </tbody>\n",
       "</table>\n",
       "</div>"
      ],
      "text/plain": [
       "               model  best_score  \\\n",
       "0  linear_regression    0.798462   \n",
       "1              lasso    0.671633   \n",
       "2      decision_tree    0.654814   \n",
       "3     Knn_regression    0.632782   \n",
       "\n",
       "                                          best_param  \n",
       "0                                {'normalize': True}  \n",
       "1                {'alpha': 1, 'selection': 'random'}  \n",
       "2  {'criterion': 'friedman_mse', 'splitter': 'ran...  \n",
       "3                                 {'n_neighbors': 6}  "
      ]
     },
     "execution_count": 45,
     "metadata": {},
     "output_type": "execute_result"
    }
   ],
   "source": [
    " find_best_model(X,Y)"
   ]
  },
  {
   "cell_type": "code",
   "execution_count": 46,
   "metadata": {
    "colab": {
     "base_uri": "https://localhost:8080/",
     "height": 33
    },
    "colab_type": "code",
    "executionInfo": {
     "elapsed": 184217,
     "status": "ok",
     "timestamp": 1595587204115,
     "user": {
      "displayName": "Arijit Das",
      "photoUrl": "https://lh3.googleusercontent.com/a-/AOh14GiQm2SXqfSQfQ_PjVMsk0AqTniOPCxTFikSIufN=s64",
      "userId": "17698375113513972403"
     },
     "user_tz": -330
    },
    "id": "rz-gSZqe7Yw4",
    "outputId": "81f7673d-5b00-40ac-e513-8b8d48715cd6"
   },
   "outputs": [
    {
     "data": {
      "text/plain": [
       "81.07433227331875"
      ]
     },
     "execution_count": 46,
     "metadata": {},
     "output_type": "execute_result"
    }
   ],
   "source": [
    "def predict_price(location,sqft,bath,bhk):    \n",
    "    loc_index = np.where(X.columns==location)[0][0]\n",
    "\n",
    "    x = np.zeros(len(X.columns))\n",
    "    x[0] = sqft\n",
    "    x[1] = bath\n",
    "    x[2] = bhk\n",
    "    if loc_index >= 0:\n",
    "        x[loc_index] = 1\n",
    "\n",
    "    return lr.predict([x])[0]\n",
    "\n",
    "predict_price('1st Phase JP Nagar',1000, 2, 3)"
   ]
  },
  {
   "cell_type": "markdown",
   "metadata": {
    "colab_type": "text",
    "id": "KoyiLv_rqH80"
   },
   "source": [
    "# In order to use the prediction in Realtime, below steps help to use the model\n",
    "##Saving the model in a pickle\n",
    "##Take the proper columns"
   ]
  },
  {
   "cell_type": "code",
   "execution_count": 30,
   "metadata": {
    "colab": {},
    "colab_type": "code",
    "executionInfo": {
     "elapsed": 184187,
     "status": "ok",
     "timestamp": 1595587204116,
     "user": {
      "displayName": "Arijit Das",
      "photoUrl": "https://lh3.googleusercontent.com/a-/AOh14GiQm2SXqfSQfQ_PjVMsk0AqTniOPCxTFikSIufN=s64",
      "userId": "17698375113513972403"
     },
     "user_tz": -330
    },
    "id": "g7qXEgXPYeOA"
   },
   "outputs": [],
   "source": [
    "import pickle\n",
    "with open('bangalore home price model.pickle','wb') as f:\n",
    "    pickle.dump(lr,f)"
   ]
  },
  {
   "cell_type": "code",
   "execution_count": 31,
   "metadata": {
    "colab": {},
    "colab_type": "code",
    "executionInfo": {
     "elapsed": 3848,
     "status": "ok",
     "timestamp": 1595588749888,
     "user": {
      "displayName": "Arijit Das",
      "photoUrl": "https://lh3.googleusercontent.com/a-/AOh14GiQm2SXqfSQfQ_PjVMsk0AqTniOPCxTFikSIufN=s64",
      "userId": "17698375113513972403"
     },
     "user_tz": -330
    },
    "id": "o29_NzcvaFKG"
   },
   "outputs": [],
   "source": [
    "# Taking the right cols\n",
    "import json\n",
    "cols = {\n",
    "    'data_cols': [col.lower() for col in X.columns]\n",
    "}\n",
    "with open('columns.json','w') as f:\n",
    "    f.write(json.dumps(cols))"
   ]
  },
  {
   "cell_type": "code",
   "execution_count": null,
   "metadata": {
    "colab": {},
    "colab_type": "code",
    "id": "NdfsOIS1gBpb"
   },
   "outputs": [],
   "source": []
  },
  {
   "cell_type": "code",
   "execution_count": null,
   "metadata": {
    "colab": {},
    "colab_type": "code",
    "id": "b-PEuCiSj0OM"
   },
   "outputs": [],
   "source": []
  }
 ],
 "metadata": {
  "accelerator": "TPU",
  "colab": {
   "collapsed_sections": [],
   "name": "draft_notebook.ipynb",
   "provenance": []
  },
  "kernelspec": {
   "display_name": "Python 3",
   "language": "python",
   "name": "python3"
  },
  "language_info": {
   "codemirror_mode": {
    "name": "ipython",
    "version": 3
   },
   "file_extension": ".py",
   "mimetype": "text/x-python",
   "name": "python",
   "nbconvert_exporter": "python",
   "pygments_lexer": "ipython3",
   "version": "3.6.4"
  }
 },
 "nbformat": 4,
 "nbformat_minor": 2
}
